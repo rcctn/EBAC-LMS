{
  "nbformat": 4,
  "nbformat_minor": 0,
  "metadata": {
    "colab": {
      "provenance": [],
      "authorship_tag": "ABX9TyMrJ4uT4387kUARwGWmIa4J",
      "include_colab_link": true
    },
    "kernelspec": {
      "name": "python3",
      "display_name": "Python 3"
    },
    "language_info": {
      "name": "python"
    }
  },
  "cells": [
    {
      "cell_type": "markdown",
      "metadata": {
        "id": "view-in-github",
        "colab_type": "text"
      },
      "source": [
        "<a href=\"https://colab.research.google.com/github/rcctn/EBAC-LMS/blob/main/Exerc%C3%ADcio_M%C3%B3dulo_2.ipynb\" target=\"_parent\"><img src=\"https://colab.research.google.com/assets/colab-badge.svg\" alt=\"Open In Colab\"/></a>"
      ]
    },
    {
      "cell_type": "markdown",
      "source": [
        "# 1º Exercício: Listas\n",
        "\n",
        "Esse exercício é composto por duas partes: a criação de uma lista e a criação de um ranking.\n",
        "\n"
      ],
      "metadata": {
        "id": "tZB79Z259koy"
      }
    },
    {
      "cell_type": "markdown",
      "source": [
        "##Crie uma lista chamada filmes com o nome dos 10 primeiros filmes mais bem avaliados no site no IMDB.\n",
        "\n",
        "Utilize a seguinte estrutura: filmes = [...]"
      ],
      "metadata": {
        "id": "SBC7ChuU9pKf"
      }
    },
    {
      "cell_type": "code",
      "source": [
        "filmes = ['01-Um Sonho de Liberdade',\n",
        "          '02-O Poderoso Chefão',\n",
        "          '03-Batman: O Cavaleiro das Trevas ',\n",
        "          '04-O Poderoso Chefão – Parte II',\n",
        "          '05-12 Homens e uma Sentença',\n",
        "          '06-A Lista de Schindler',\n",
        "          '07-O Senhor dos Anéis: O Retorno do Rei',\n",
        "          '08-Pulp Fiction: Tempo de Violência',\n",
        "          '09-O Senhor dos Anéis: A Sociedade do Anel',\n",
        "          '10-Três Homens em Conflito'\n",
        "]\n",
        "\n",
        "print(filmes)"
      ],
      "metadata": {
        "colab": {
          "base_uri": "https://localhost:8080/"
        },
        "id": "6yRHwrj4FSiN",
        "outputId": "d181dd00-5ffd-4fed-87c5-69212a4f61e0"
      },
      "execution_count": 89,
      "outputs": [
        {
          "output_type": "stream",
          "name": "stdout",
          "text": [
            "['01-Um Sonho de Liberdade', '02-O Poderoso Chefão', '03-Batman: O Cavaleiro das Trevas ', '04-O Poderoso Chefão – Parte II', '05-12 Homens e uma Sentença', '06-A Lista de Schindler', '07-O Senhor dos Anéis: O Retorno do Rei', '08-Pulp Fiction: Tempo de Violência', '09-O Senhor dos Anéis: A Sociedade do Anel', '10-Três Homens em Conflito']\n"
          ]
        }
      ]
    },
    {
      "cell_type": "markdown",
      "source": [
        "##Simule a movimentação do ranking.\n",
        "\n",
        "Para isso, utilize os métodos insert e pop para trocar a posição do primeiro e do segundo filme da lista."
      ],
      "metadata": {
        "id": "_TthxGLNDfc6"
      }
    },
    {
      "cell_type": "code",
      "source": [
        "filmes.insert(0, '02-O Poderoso Chefão')\n",
        "print(filmes)"
      ],
      "metadata": {
        "colab": {
          "base_uri": "https://localhost:8080/"
        },
        "id": "a_NOvVp2EMxN",
        "outputId": "54068bc7-4206-4303-ad45-37017e7957ca"
      },
      "execution_count": 90,
      "outputs": [
        {
          "output_type": "stream",
          "name": "stdout",
          "text": [
            "['02-O Poderoso Chefão', '01-Um Sonho de Liberdade', '02-O Poderoso Chefão', '03-Batman: O Cavaleiro das Trevas ', '04-O Poderoso Chefão – Parte II', '05-12 Homens e uma Sentença', '06-A Lista de Schindler', '07-O Senhor dos Anéis: O Retorno do Rei', '08-Pulp Fiction: Tempo de Violência', '09-O Senhor dos Anéis: A Sociedade do Anel', '10-Três Homens em Conflito']\n"
          ]
        }
      ]
    },
    {
      "cell_type": "code",
      "source": [
        "filmes_saida =filmes.pop(0)\n",
        "print(filmes_saida)"
      ],
      "metadata": {
        "colab": {
          "base_uri": "https://localhost:8080/"
        },
        "id": "zS_wIaNCGFud",
        "outputId": "4dc3cff8-0fb3-492e-8c1a-5f782baf5096"
      },
      "execution_count": 91,
      "outputs": [
        {
          "output_type": "stream",
          "name": "stdout",
          "text": [
            "02-O Poderoso Chefão\n"
          ]
        }
      ]
    },
    {
      "cell_type": "code",
      "source": [
        "print(filmes)"
      ],
      "metadata": {
        "colab": {
          "base_uri": "https://localhost:8080/"
        },
        "id": "HG4fiYbAGnFT",
        "outputId": "60e86a79-c7c2-4365-a40f-75d376f55034"
      },
      "execution_count": 92,
      "outputs": [
        {
          "output_type": "stream",
          "name": "stdout",
          "text": [
            "['01-Um Sonho de Liberdade', '02-O Poderoso Chefão', '03-Batman: O Cavaleiro das Trevas ', '04-O Poderoso Chefão – Parte II', '05-12 Homens e uma Sentença', '06-A Lista de Schindler', '07-O Senhor dos Anéis: O Retorno do Rei', '08-Pulp Fiction: Tempo de Violência', '09-O Senhor dos Anéis: A Sociedade do Anel', '10-Três Homens em Conflito']\n"
          ]
        }
      ]
    },
    {
      "cell_type": "markdown",
      "source": [
        "# 2º Exercício: Conjuntos"
      ],
      "metadata": {
        "id": "ivETiOPLHvl9"
      }
    },
    {
      "cell_type": "markdown",
      "source": [
        "## Imagine que aconteceu um erro no seu ranking. Simule a duplicação dos três últimos filmes da lista."
      ],
      "metadata": {
        "id": "9Iwi4mAtH4Av"
      }
    },
    {
      "cell_type": "code",
      "source": [
        "print(filmes[7:10])"
      ],
      "metadata": {
        "colab": {
          "base_uri": "https://localhost:8080/"
        },
        "id": "YZcwGHspR9EV",
        "outputId": "8a29c4be-bcc8-452a-debc-53cc6d061854"
      },
      "execution_count": 93,
      "outputs": [
        {
          "output_type": "stream",
          "name": "stdout",
          "text": [
            "['08-Pulp Fiction: Tempo de Violência', '09-O Senhor dos Anéis: A Sociedade do Anel', '10-Três Homens em Conflito']\n"
          ]
        }
      ]
    },
    {
      "cell_type": "code",
      "source": [
        "filmes.insert(8,'08-Pulp Fiction: Tempo de Violência')\n",
        "filmes.insert(10,'09-O Senhor dos Anéis: A Sociedade do Anel')\n",
        "filmes.insert(12,'10-Três Homens em Conflito')\n",
        "\n",
        "print(filmes)"
      ],
      "metadata": {
        "colab": {
          "base_uri": "https://localhost:8080/"
        },
        "id": "3pKgn0omQMVp",
        "outputId": "ab2cb6a2-4249-4954-d2b1-eb046a978d9f"
      },
      "execution_count": 94,
      "outputs": [
        {
          "output_type": "stream",
          "name": "stdout",
          "text": [
            "['01-Um Sonho de Liberdade', '02-O Poderoso Chefão', '03-Batman: O Cavaleiro das Trevas ', '04-O Poderoso Chefão – Parte II', '05-12 Homens e uma Sentença', '06-A Lista de Schindler', '07-O Senhor dos Anéis: O Retorno do Rei', '08-Pulp Fiction: Tempo de Violência', '08-Pulp Fiction: Tempo de Violência', '09-O Senhor dos Anéis: A Sociedade do Anel', '09-O Senhor dos Anéis: A Sociedade do Anel', '10-Três Homens em Conflito', '10-Três Homens em Conflito']\n"
          ]
        }
      ]
    },
    {
      "cell_type": "markdown",
      "source": [
        "##Utilize a conversão set e list para remover os valores duplicados."
      ],
      "metadata": {
        "id": "87BciMK-Pk2j"
      }
    },
    {
      "cell_type": "code",
      "source": [
        "print(list(filmes))\n",
        "print(' ')\n",
        "\n",
        "print(set(filmes))\n",
        "print(' ')\n",
        "\n",
        "sorted(set(filmes))"
      ],
      "metadata": {
        "colab": {
          "base_uri": "https://localhost:8080/"
        },
        "id": "mVWPm4gDNvrN",
        "outputId": "44fb13c8-82f7-4db4-8634-1eb300a7d197"
      },
      "execution_count": 98,
      "outputs": [
        {
          "output_type": "stream",
          "name": "stdout",
          "text": [
            "['01-Um Sonho de Liberdade', '02-O Poderoso Chefão', '03-Batman: O Cavaleiro das Trevas ', '04-O Poderoso Chefão – Parte II', '05-12 Homens e uma Sentença', '06-A Lista de Schindler', '07-O Senhor dos Anéis: O Retorno do Rei', '08-Pulp Fiction: Tempo de Violência', '08-Pulp Fiction: Tempo de Violência', '09-O Senhor dos Anéis: A Sociedade do Anel', '09-O Senhor dos Anéis: A Sociedade do Anel', '10-Três Homens em Conflito', '10-Três Homens em Conflito']\n",
            " \n",
            "{'07-O Senhor dos Anéis: O Retorno do Rei', '04-O Poderoso Chefão – Parte II', '03-Batman: O Cavaleiro das Trevas ', '08-Pulp Fiction: Tempo de Violência', '09-O Senhor dos Anéis: A Sociedade do Anel', '05-12 Homens e uma Sentença', '02-O Poderoso Chefão', '01-Um Sonho de Liberdade', '10-Três Homens em Conflito', '06-A Lista de Schindler'}\n",
            " \n"
          ]
        },
        {
          "output_type": "execute_result",
          "data": {
            "text/plain": [
              "['01-Um Sonho de Liberdade',\n",
              " '02-O Poderoso Chefão',\n",
              " '03-Batman: O Cavaleiro das Trevas ',\n",
              " '04-O Poderoso Chefão – Parte II',\n",
              " '05-12 Homens e uma Sentença',\n",
              " '06-A Lista de Schindler',\n",
              " '07-O Senhor dos Anéis: O Retorno do Rei',\n",
              " '08-Pulp Fiction: Tempo de Violência',\n",
              " '09-O Senhor dos Anéis: A Sociedade do Anel',\n",
              " '10-Três Homens em Conflito']"
            ]
          },
          "metadata": {},
          "execution_count": 98
        }
      ]
    },
    {
      "cell_type": "markdown",
      "source": [
        "#3º Exercício: Dicionários"
      ],
      "metadata": {
        "id": "B9ZDDHd2U17Q"
      }
    },
    {
      "cell_type": "markdown",
      "source": [
        "\n",
        "Adicione mais informações a essa estrutura de dados com o ano e a sinopse de cada filme.\n",
        "\n",
        "Os elementos da lista filmes devem ser dicionários no seguinte formato:\n",
        "\n",
        "{'nome': nome-do-filme>, 'ano': ano do filme>},'sinopse': sinopse do filme>}"
      ],
      "metadata": {
        "id": "f9cxTp57Vsj2"
      }
    },
    {
      "cell_type": "code",
      "source": [
        "filmes_info = {\n",
        "      'top10': {\n",
        "         'filmes':{\n",
        "                '01':{\n",
        "                  'nota': '9,3 estrelas',\n",
        "                  'nome': 'Um Sonho de Liberdade',\n",
        "                  'ano': 1994,\n",
        "                  'sinopse': 'O filme segue Andy enquanto ele enfrenta a dura realidade da vida na prisão, especialmente sob a administração brutal do diretor Norton, interpretado por Bob Gunton. Dentro da prisão, Andy desenvolve amizades, notavelmente com Red, interpretado por Morgan Freeman, um prisioneiro experiente conhecido por suas habilidades em obter itens no mercado negro.'\n",
        "                },\n",
        "                '02':{\n",
        "                  'nota': '9,2 estrelas',\n",
        "                  'nome':  'O Poderoso Chefão',\n",
        "                  'ano': 1972,\n",
        "                  'sinopse': 'A trama se desenrola em torno da poderosa família mafiosa Corleone, liderada por Vito Corleone, interpretado por Marlon Brando. Vito é o patriarca respeitado e temido, conhecido por sua ética e lealdade à família. O filme começa com o casamento de sua filha, Connie, mas rapidamente mergulha na complexidade do mundo do crime organizado.'\n",
        "                },\n",
        "                '03':{\n",
        "                  'nota': '9 estrelas',\n",
        "                  'nome': 'Batman: O Cavaleiro das Trevas',\n",
        "                  'ano': 2008,\n",
        "                  'sinopse': 'A trama do filme segue Batman enquanto ele enfrenta um novo vilão em Gotham City, o Coringa, interpretado por Heath Ledger. O Coringa é um agente do caos, cujo objetivo é semear o crime e a anarquia na cidade. Ele desafia Batman de maneiras nunca vistas antes, testando os limites morais do herói e da sociedade em geral.'\n",
        "                },\n",
        "                '04':{\n",
        "                  'nota': '9 estrelas',\n",
        "                  'nome': 'O Poderoso Chefão – Parte II',\n",
        "                  'ano': 1974,\n",
        "                  'sinopse': 'Em 1950, Michael Corleone, agora à frente da família, tenta expandir o negócio do crime a Las Vegas, Los Angeles e Cuba.'\n",
        "                },\n",
        "                '05':{\n",
        "                  'nota': '9 estrelas',\n",
        "                  'nome': '12 Homens e uma Sentença',\n",
        "                  'ano': 1957,\n",
        "                  'sinopse': 'o clássico acompanha o tenso julgamento de um jovem, acusado de assassinato. Os doze membros do júri devem deliberar sobre o destino do rapaz, mas encontrarão discordâncias entre si.'\n",
        "                },\n",
        "                '06':{\n",
        "                  'nota': '9 estrelas',\n",
        "                  'nome': 'A Lista de Schindler',\n",
        "                  'ano': 1993,\n",
        "                  'sinopse': 'Na Polônia ocupada pelos alemães durante a Segunda Guerra Mundial, o industrial Oskar Schindler começa a ser preocupar com seus trabalhadores'\n",
        "                },\n",
        "                '07':{\n",
        "                  'nota': '9 estrelas',\n",
        "                  'nome': 'O Senhor dos Anéis: O Retorno do Rei',\n",
        "                  'ano': 2003,\n",
        "                  'sinopse': 'Dirigido por Peter Jackson, o filme mostra a luta final pela destruição do Um Anel e a defesa desesperada ao reino humano de Gondor.'\n",
        "                },\n",
        "                '08':{\n",
        "                  'nota': '8,9 estrelas',\n",
        "                  'nome': 'Pulp Fiction: Tempo de Violência',\n",
        "                  'ano': 1994,\n",
        "                  'sinopse': 'Quentin Tarantino mistura diferentes histórias de bandidagem em uma trama divertida e inusitada. De dois assassinos atrapalhados (John Travolta e Samuel L. Jackson) até um boxeador clandestino (Bruce Willis), todos interagem de formas malucas e violentas.'\n",
        "                },\n",
        "                '09':{\n",
        "                  'nota': '8,8 estrelas',\n",
        "                  'nome': 'O Senhor dos Anéis: A Sociedade do Anel',\n",
        "                  'ano': 2001,\n",
        "                  'sinopse': 'A Sociedade do Anel mostra o fim da vida calma de Frodo ao descobrir que guarda o anel maligno. O pequeno Hobbit deve partir em jornada às terras sombrias de Mordor.'\n",
        "                },\n",
        "                '10':{\n",
        "                  'nota': '8,8 estrelas',\n",
        "                  'nome': 'Três Homens em Conflito',\n",
        "                  'ano': 1966,\n",
        "                  'sinopse': 'A trama de Sergio Leone traz, como o título indica, três pistoleiros se encarando na busca por um tesouro roubado. Tudo isso, claro, embalado por muita tensão, tiroteios e uma belíssima fotografia.'\n",
        "                }\n",
        "\n",
        "\n",
        "    }\n",
        "  }\n",
        "}\n",
        "\n",
        "\n",
        "print(filmes_info)"
      ],
      "metadata": {
        "colab": {
          "base_uri": "https://localhost:8080/"
        },
        "id": "SgF9Ch7iHEgI",
        "outputId": "94cce839-1ec9-4126-802e-0c8384a6111c"
      },
      "execution_count": 99,
      "outputs": [
        {
          "output_type": "stream",
          "name": "stdout",
          "text": [
            "{'top10': {'filmes': {'01': {'nota': '9,3 estrelas', 'nome': 'Um Sonho de Liberdade', 'ano': 1994, 'sinopse': 'O filme segue Andy enquanto ele enfrenta a dura realidade da vida na prisão, especialmente sob a administração brutal do diretor Norton, interpretado por Bob Gunton. Dentro da prisão, Andy desenvolve amizades, notavelmente com Red, interpretado por Morgan Freeman, um prisioneiro experiente conhecido por suas habilidades em obter itens no mercado negro.'}, '02': {'nota': '9,2 estrelas', 'nome': 'O Poderoso Chefão', 'ano': 1972, 'sinopse': 'A trama se desenrola em torno da poderosa família mafiosa Corleone, liderada por Vito Corleone, interpretado por Marlon Brando. Vito é o patriarca respeitado e temido, conhecido por sua ética e lealdade à família. O filme começa com o casamento de sua filha, Connie, mas rapidamente mergulha na complexidade do mundo do crime organizado.'}, '03': {'nota': '9 estrelas', 'nome': 'Batman: O Cavaleiro das Trevas', 'ano': 2008, 'sinopse': 'A trama do filme segue Batman enquanto ele enfrenta um novo vilão em Gotham City, o Coringa, interpretado por Heath Ledger. O Coringa é um agente do caos, cujo objetivo é semear o crime e a anarquia na cidade. Ele desafia Batman de maneiras nunca vistas antes, testando os limites morais do herói e da sociedade em geral.'}, '04': {'nota': '9 estrelas', 'nome': 'O Poderoso Chefão – Parte II', 'ano': 1974, 'sinopse': 'Em 1950, Michael Corleone, agora à frente da família, tenta expandir o negócio do crime a Las Vegas, Los Angeles e Cuba.'}, '05': {'nota': '9 estrelas', 'nome': '12 Homens e uma Sentença', 'ano': 1957, 'sinopse': 'o clássico acompanha o tenso julgamento de um jovem, acusado de assassinato. Os doze membros do júri devem deliberar sobre o destino do rapaz, mas encontrarão discordâncias entre si.'}, '06': {'nota': '9 estrelas', 'nome': 'A Lista de Schindler', 'ano': 1993, 'sinopse': 'Na Polônia ocupada pelos alemães durante a Segunda Guerra Mundial, o industrial Oskar Schindler começa a ser preocupar com seus trabalhadores'}, '07': {'nota': '9 estrelas', 'nome': 'O Senhor dos Anéis: O Retorno do Rei', 'ano': 2003, 'sinopse': 'Dirigido por Peter Jackson, o filme mostra a luta final pela destruição do Um Anel e a defesa desesperada ao reino humano de Gondor.'}, '08': {'nota': '8,9 estrelas', 'nome': 'Pulp Fiction: Tempo de Violência', 'ano': 1994, 'sinopse': 'Quentin Tarantino mistura diferentes histórias de bandidagem em uma trama divertida e inusitada. De dois assassinos atrapalhados (John Travolta e Samuel L. Jackson) até um boxeador clandestino (Bruce Willis), todos interagem de formas malucas e violentas.'}, '09': {'nota': '8,8 estrelas', 'nome': 'O Senhor dos Anéis: A Sociedade do Anel', 'ano': 2001, 'sinopse': 'A Sociedade do Anel mostra o fim da vida calma de Frodo ao descobrir que guarda o anel maligno. O pequeno Hobbit deve partir em jornada às terras sombrias de Mordor.'}, '10': {'nota': '8,8 estrelas', 'nome': 'Três Homens em Conflito', 'ano': 1966, 'sinopse': 'A trama de Sergio Leone traz, como o título indica, três pistoleiros se encarando na busca por um tesouro roubado. Tudo isso, claro, embalado por muita tensão, tiroteios e uma belíssima fotografia.'}}}}\n"
          ]
        }
      ]
    }
  ]
}