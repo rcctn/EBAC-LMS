{
  "nbformat": 4,
  "nbformat_minor": 0,
  "metadata": {
    "colab": {
      "provenance": [],
      "authorship_tag": "ABX9TyPc7rmmvFaWK+2u5YZoqukA",
      "include_colab_link": true
    },
    "kernelspec": {
      "name": "python3",
      "display_name": "Python 3"
    },
    "language_info": {
      "name": "python"
    }
  },
  "cells": [
    {
      "cell_type": "markdown",
      "metadata": {
        "id": "view-in-github",
        "colab_type": "text"
      },
      "source": [
        "<a href=\"https://colab.research.google.com/github/rcctn/EBAC-LMS/blob/main/Exerc%C3%ADcio_M%C3%B3dulo_2.ipynb\" target=\"_parent\"><img src=\"https://colab.research.google.com/assets/colab-badge.svg\" alt=\"Open In Colab\"/></a>"
      ]
    },
    {
      "cell_type": "markdown",
      "source": [
        "# 1º Exercício: Listas\n",
        "\n",
        "Esse exercício é composto por duas partes: a criação de uma lista e a criação de um ranking.\n",
        "\n"
      ],
      "metadata": {
        "id": "tZB79Z259koy"
      }
    },
    {
      "cell_type": "markdown",
      "source": [
        "##Crie uma lista chamada filmes com o nome dos 10 primeiros filmes mais bem avaliados no site no IMDB.\n",
        "\n",
        "Utilize a seguinte estrutura: filmes = [...]"
      ],
      "metadata": {
        "id": "SBC7ChuU9pKf"
      }
    },
    {
      "cell_type": "code",
      "source": [
        "filmes = ['1-Um Sonho de Liberdade',\n",
        "          '2-O Poderoso Chefão',\n",
        "          '3-O Poderoso Chefão – Parte II',\n",
        "          '4-Batman: O Cavaleiro das Trevas',\n",
        "          '5-12 Homens e uma Sentença',\n",
        "          '6-A Lista de Schindler',\n",
        "          '7-O Senhor dos Anéis: O Retorno do Rei',\n",
        "          '8-Pulp Fiction: Tempo de Violência',\n",
        "          '9-O Bom, o Mau e o Feio',\n",
        "          '10-Clube da Luta'\n",
        "]\n",
        "\n",
        "print(filmes)"
      ],
      "metadata": {
        "colab": {
          "base_uri": "https://localhost:8080/"
        },
        "id": "6yRHwrj4FSiN",
        "outputId": "b743fb94-6e58-4e62-faf3-c52c5253c03e"
      },
      "execution_count": 153,
      "outputs": [
        {
          "output_type": "stream",
          "name": "stdout",
          "text": [
            "['1-Um Sonho de Liberdade', '2-O Poderoso Chefão', '3-O Poderoso Chefão – Parte II', '4-Batman: O Cavaleiro das Trevas', '5-12 Homens e uma Sentença', '6-A Lista de Schindler', '7-O Senhor dos Anéis: O Retorno do Rei', '8-Pulp Fiction: Tempo de Violência', '9-O Bom, o Mau e o Feio', '10-Clube da Luta']\n"
          ]
        }
      ]
    },
    {
      "cell_type": "markdown",
      "source": [
        "##Simule a movimentação do ranking.\n",
        "\n",
        "Para isso, utilize os métodos insert e pop para trocar a posição do primeiro e do segundo filme da lista."
      ],
      "metadata": {
        "id": "_TthxGLNDfc6"
      }
    },
    {
      "cell_type": "code",
      "source": [
        "filmes.insert(0, '2-O Poderoso Chefão')\n",
        "print(filmes)"
      ],
      "metadata": {
        "colab": {
          "base_uri": "https://localhost:8080/"
        },
        "id": "a_NOvVp2EMxN",
        "outputId": "3d5eda09-db03-4c05-e04d-3a262fba63c7"
      },
      "execution_count": 154,
      "outputs": [
        {
          "output_type": "stream",
          "name": "stdout",
          "text": [
            "['2-O Poderoso Chefão', '1-Um Sonho de Liberdade', '2-O Poderoso Chefão', '3-O Poderoso Chefão – Parte II', '4-Batman: O Cavaleiro das Trevas', '5-12 Homens e uma Sentença', '6-A Lista de Schindler', '7-O Senhor dos Anéis: O Retorno do Rei', '8-Pulp Fiction: Tempo de Violência', '9-O Bom, o Mau e o Feio', '10-Clube da Luta']\n"
          ]
        }
      ]
    },
    {
      "cell_type": "code",
      "source": [
        "filmes_saida =filmes.pop(0)\n",
        "print(filmes_saida)"
      ],
      "metadata": {
        "colab": {
          "base_uri": "https://localhost:8080/"
        },
        "id": "zS_wIaNCGFud",
        "outputId": "84ba5448-395e-42ea-c308-fd7fdd1af87a"
      },
      "execution_count": 155,
      "outputs": [
        {
          "output_type": "stream",
          "name": "stdout",
          "text": [
            "2-O Poderoso Chefão\n"
          ]
        }
      ]
    },
    {
      "cell_type": "code",
      "source": [
        "print(filmes)"
      ],
      "metadata": {
        "colab": {
          "base_uri": "https://localhost:8080/"
        },
        "id": "HG4fiYbAGnFT",
        "outputId": "431b5ccc-365b-4cf2-f89f-a0a2a0932386"
      },
      "execution_count": 156,
      "outputs": [
        {
          "output_type": "stream",
          "name": "stdout",
          "text": [
            "['1-Um Sonho de Liberdade', '2-O Poderoso Chefão', '3-O Poderoso Chefão – Parte II', '4-Batman: O Cavaleiro das Trevas', '5-12 Homens e uma Sentença', '6-A Lista de Schindler', '7-O Senhor dos Anéis: O Retorno do Rei', '8-Pulp Fiction: Tempo de Violência', '9-O Bom, o Mau e o Feio', '10-Clube da Luta']\n"
          ]
        }
      ]
    },
    {
      "cell_type": "markdown",
      "source": [
        "# 2º Exercício: Conjuntos"
      ],
      "metadata": {
        "id": "ivETiOPLHvl9"
      }
    },
    {
      "cell_type": "markdown",
      "source": [
        "## Imagine que aconteceu um erro no seu ranking. Simule a duplicação dos três últimos filmes da lista."
      ],
      "metadata": {
        "id": "9Iwi4mAtH4Av"
      }
    },
    {
      "cell_type": "code",
      "source": [
        "print(filmes[10:13])"
      ],
      "metadata": {
        "colab": {
          "base_uri": "https://localhost:8080/"
        },
        "id": "YZcwGHspR9EV",
        "outputId": "1ac3db86-c348-40a8-89df-ad1698898948"
      },
      "execution_count": 160,
      "outputs": [
        {
          "output_type": "stream",
          "name": "stdout",
          "text": [
            "['9-O Bom, o Mau e o Feio', '10-Clube da Luta', '10-Clube da Luta']\n"
          ]
        }
      ]
    },
    {
      "cell_type": "code",
      "source": [
        "filmes.insert(8,'8-Pulp Fiction: Tempo de Violência')\n",
        "filmes.insert(10,'9-O Bom, o Mau e o Feio')\n",
        "filmes.insert(12,'10-Clube da Luta')\n",
        "\n",
        "print(filmes)"
      ],
      "metadata": {
        "colab": {
          "base_uri": "https://localhost:8080/"
        },
        "id": "3pKgn0omQMVp",
        "outputId": "e9efde41-93fe-4547-828a-8dedfe2dcca0"
      },
      "execution_count": 158,
      "outputs": [
        {
          "output_type": "stream",
          "name": "stdout",
          "text": [
            "['1-Um Sonho de Liberdade', '2-O Poderoso Chefão', '3-O Poderoso Chefão – Parte II', '4-Batman: O Cavaleiro das Trevas', '5-12 Homens e uma Sentença', '6-A Lista de Schindler', '7-O Senhor dos Anéis: O Retorno do Rei', '8-Pulp Fiction: Tempo de Violência', '8-Pulp Fiction: Tempo de Violência', '9-O Bom, o Mau e o Feio', '9-O Bom, o Mau e o Feio', '10-Clube da Luta', '10-Clube da Luta']\n"
          ]
        }
      ]
    },
    {
      "cell_type": "markdown",
      "source": [
        "##Utilize a conversão set e list para remover os valores duplicados."
      ],
      "metadata": {
        "id": "87BciMK-Pk2j"
      }
    },
    {
      "cell_type": "code",
      "source": [
        "print(list(filmes))\n",
        "print(' ')\n",
        "print(set(filmes))"
      ],
      "metadata": {
        "colab": {
          "base_uri": "https://localhost:8080/"
        },
        "id": "mVWPm4gDNvrN",
        "outputId": "ff97daea-1156-4b05-d328-e51a96db9f2a"
      },
      "execution_count": 161,
      "outputs": [
        {
          "output_type": "stream",
          "name": "stdout",
          "text": [
            "['1-Um Sonho de Liberdade', '2-O Poderoso Chefão', '3-O Poderoso Chefão – Parte II', '4-Batman: O Cavaleiro das Trevas', '5-12 Homens e uma Sentença', '6-A Lista de Schindler', '7-O Senhor dos Anéis: O Retorno do Rei', '8-Pulp Fiction: Tempo de Violência', '8-Pulp Fiction: Tempo de Violência', '9-O Bom, o Mau e o Feio', '9-O Bom, o Mau e o Feio', '10-Clube da Luta', '10-Clube da Luta']\n",
            " \n",
            "{'5-12 Homens e uma Sentença', '6-A Lista de Schindler', '2-O Poderoso Chefão', '1-Um Sonho de Liberdade', '8-Pulp Fiction: Tempo de Violência', '3-O Poderoso Chefão – Parte II', '9-O Bom, o Mau e o Feio', '10-Clube da Luta', '7-O Senhor dos Anéis: O Retorno do Rei', '4-Batman: O Cavaleiro das Trevas'}\n"
          ]
        }
      ]
    },
    {
      "cell_type": "markdown",
      "source": [
        "#3º Exercício: Dicionários"
      ],
      "metadata": {
        "id": "B9ZDDHd2U17Q"
      }
    },
    {
      "cell_type": "markdown",
      "source": [
        "\n",
        "Adicione mais informações a essa estrutura de dados com o ano e a sinopse de cada filme.\n",
        "\n",
        "Os elementos da lista filmes devem ser dicionários no seguinte formato:\n",
        "\n",
        "{'nome': nome-do-filme>, 'ano': ano do filme>},'sinopse': sinopse do filme>}"
      ],
      "metadata": {
        "id": "f9cxTp57Vsj2"
      }
    },
    {
      "cell_type": "code",
      "source": [
        "filmes2 = {'nome':'Um Sonho de Liberdade',\n",
        "           'ano':1994,\n",
        "           'sinopse':'A sinopse',\n",
        "           'nome':'Um Sonho de Liberdade2',\n",
        "           'ano':19942,\n",
        "           'sinopse':'A sinopse2'}\n",
        "\n",
        "print(filmes2)"
      ],
      "metadata": {
        "colab": {
          "base_uri": "https://localhost:8080/"
        },
        "id": "6zboye7RU6DI",
        "outputId": "bb5e879e-d4a5-4f17-b1f4-e979a6c40fd2"
      },
      "execution_count": 201,
      "outputs": [
        {
          "output_type": "stream",
          "name": "stdout",
          "text": [
            "{'nome': 'Um Sonho de Liberdade2', 'ano': 19942, 'sinopse': 'A sinopse2'}\n"
          ]
        }
      ]
    },
    {
      "cell_type": "code",
      "source": [],
      "metadata": {
        "id": "dpZOc87ZYLCZ"
      },
      "execution_count": null,
      "outputs": []
    },
    {
      "cell_type": "markdown",
      "source": [],
      "metadata": {
        "id": "vIgIs-0-Vrwq"
      }
    }
  ]
}