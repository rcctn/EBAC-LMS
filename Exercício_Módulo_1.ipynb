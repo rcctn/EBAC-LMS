{
  "nbformat": 4,
  "nbformat_minor": 0,
  "metadata": {
    "colab": {
      "provenance": [],
      "collapsed_sections": [
        "dvnTIPjQX3pD",
        "X0rXvmYqPaAT",
        "l0Na8P-mXcOW",
        "3r9hNZK1O-1U",
        "9fGB4cD1O8wx",
        "fjSarOMkOtBT",
        "B70pJWkgOo-s",
        "hfjD2bm5YLTl",
        "OY7Dd-vIWU-L"
      ],
      "include_colab_link": true
    },
    "kernelspec": {
      "name": "python3",
      "display_name": "Python 3"
    },
    "language_info": {
      "name": "python"
    }
  },
  "cells": [
    {
      "cell_type": "markdown",
      "metadata": {
        "id": "view-in-github",
        "colab_type": "text"
      },
      "source": [
        "<a href=\"https://colab.research.google.com/github/rcctn/EBAC-LMS/blob/main/Exerc%C3%ADcio_M%C3%B3dulo_1.ipynb\" target=\"_parent\"><img src=\"https://colab.research.google.com/assets/colab-badge.svg\" alt=\"Open In Colab\"/></a>"
      ]
    },
    {
      "cell_type": "markdown",
      "source": [
        "# Pratique"
      ],
      "metadata": {
        "id": "8otOiYMdPC2X"
      }
    },
    {
      "cell_type": "markdown",
      "source": [
        "# 1º Exercício: Olá, mundo"
      ],
      "metadata": {
        "id": "dvnTIPjQX3pD"
      }
    },
    {
      "cell_type": "markdown",
      "source": [
        "## Parte 1"
      ],
      "metadata": {
        "id": "Bzr9P0-cPK5B"
      }
    },
    {
      "cell_type": "markdown",
      "source": [
        "### Adicione uma célula de código. Nela, escreva o texto \"Olá mundo!\", utilize a função print."
      ],
      "metadata": {
        "id": "k-0CFI-CWqE2"
      }
    },
    {
      "cell_type": "code",
      "source": [
        "print('Olá mundo!')"
      ],
      "metadata": {
        "colab": {
          "base_uri": "https://localhost:8080/"
        },
        "id": "bZgc3T2gPOEt",
        "outputId": "30a58f83-d514-4a43-eb38-2120c225ff32"
      },
      "execution_count": null,
      "outputs": [
        {
          "output_type": "stream",
          "name": "stdout",
          "text": [
            "Olá mundo!\n"
          ]
        }
      ]
    },
    {
      "cell_type": "markdown",
      "source": [
        "## Parte 2"
      ],
      "metadata": {
        "id": "X0rXvmYqPaAT"
      }
    },
    {
      "cell_type": "markdown",
      "source": [
        "### Adicione uma imagem."
      ],
      "metadata": {
        "id": "l0Na8P-mXcOW"
      }
    },
    {
      "cell_type": "markdown",
      "source": [
        "![image.png](data:image/png;base64,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)\n",
        "\n",
        "![image.png](data:image/png;base64,iVBORw0KGgoAAAANSUhEUgAAACsAAAAwCAYAAACITIOYAAAD10lEQVRoQ+2YW0gUURjH/7Mzu2q6rrq7Wqa5GiVmalEPC2EFReCbBUWiSFH2kEj40FNQ0O0p6QKVGEURaLeHoCjrpQgjNAgLNcq8ULmurrd0t724M9MZhV3XndGmnSWEOW873zdzfvs733zn7FJWq5XHEhmUChullVLNRkksVLOqWWJALQO1DNQyiFYNqGbnmPXmaDFumhZ3Tc56xaNOdPcm/PVaRK11cWvjwJWkwN5vh9/LhgHtSh5HfW4PDl9fh96hZX8FHBVYngbYA8sBPQ3vLzccg2MhMAzF4XVRJ7ISvGjv06PmZu7/g+WsenDWxACA48cIvC5v4HPVSjtOZv8MfD7RuBpvupIXBVbcLE9ssgfSAJoKTO7z+DDU74BwxcD48W7TR+i1wR8o9gkdyi4WwM8G7xEjVxyWLUkGnxteg+O2CbgmXThn6UdlxkgYy7XmDDS1kNJZYCgKy6+KAbvHJDod52Ght/Xh5eZOaDThKS6PBnvrCjHlZiRxFYPlyQqy5amASSs52ZaOr7iw/bNk/HGrGXVPsqIPyxXEg9uRJL2IPW7ono7iTk0nLKke0Tye53HoWj66B8VbmSJmeR0F9iCptziR9RWwWB707SFQUywKs6ZwteqL5Jf6/DMeR+rzROOKwLLbDOA3Su9E1Psp0G8nAwDny7+hOG9CEvjso2y8aDeGxSOG5Y0M2ArSqqS6DrFJ3yVWfcFWlWbwoqm2A1pG/P+VkUkGZZcK4fGFrlTEsOxuI/isWElL9PMxUF/cYfGqnQOo3D4oeZ/QxoR2NndEBMtbSKsqFW9VwiSUzQf6gUMUKEbL4V7tJ5gS/aJxPzlOVFxej4GxoIiIYP2lZsCiE7dDVphuHAblkDh1kbt2Fo7i1L4+SbsPW9JwpTkzEI8IdthSDbehSHQyE+OGOT1/wR1JCB5vq8YmZ5do3uNpCrfm1G1EsK7EDRjJPhr+1lIarFmeClq7+NEvdaILVz5Uhz2DIz232sNggAuGIoIVHjOccwxufahBc1IKqcUFNoh5aDUdp7Fl+FXI1SfE6g2lu8F0bDpsa0+St2m2zTA0g9XpmdBQC5+g5pKZ3HZcbK2Elputbyep96rfGrjm9cOIzQoPH82ogNO4dWai9BQzDAn6RWt1fsL+bw0o/d40c7meGH1GzM4fisCytB62vDPQxRqQvSL49sohpqdduNR2CM7fQ6glJzBOZJdRBFaA8savwbKiGsQY18lhDMnN6L2Pya4G2IUjnMhQDPafCWXcqMLKkCUrVTUrS5eMZNWsDFmyUlWzsnTJSFbNypAlK3VJmf0DdqFmkDZ11Z8AAAAASUVORK5CYII=)"
      ],
      "metadata": {
        "id": "4nztfIJFspYq"
      }
    },
    {
      "cell_type": "markdown",
      "source": [
        "# 2º Exercício: Números"
      ],
      "metadata": {
        "id": "3r9hNZK1O-1U"
      }
    },
    {
      "cell_type": "markdown",
      "source": [
        "**Preencha as células de código para preencher os valores de (A), (B) e (C) na tabela de ticket médio abaixo:**\n",
        "\n"
      ],
      "metadata": {
        "id": "2GvoC3i4WcpV"
      }
    },
    {
      "cell_type": "markdown",
      "source": [
        "## A) VALOR TOTAL DE VENDAS - 19/01"
      ],
      "metadata": {
        "id": "9fGB4cD1O8wx"
      }
    },
    {
      "cell_type": "code",
      "execution_count": null,
      "metadata": {
        "colab": {
          "base_uri": "https://localhost:8080/"
        },
        "collapsed": true,
        "id": "7V-wWBqPsnN_",
        "outputId": "7e043a20-878e-43f1-adcc-b2362dddea68"
      },
      "outputs": [
        {
          "output_type": "stream",
          "name": "stdout",
          "text": [
            "<class 'float'>\n",
            "A = 106.83999999999999\n",
            " \n",
            "<class 'int'>\n",
            "A = 106\n"
          ]
        }
      ],
      "source": [
        "vtotal = 320.52 / 3\n",
        "\n",
        "print (type(vtotal))\n",
        "print ('A =',  vtotal)\n",
        "\n",
        "print (' ')\n",
        "\n",
        "vtotal = int(vtotal)\n",
        "print (type(vtotal))\n",
        "print ('A =', vtotal)\n"
      ]
    },
    {
      "cell_type": "markdown",
      "source": [
        "## B) QTD TOTAL DE VENDAS - 20/01"
      ],
      "metadata": {
        "id": "fjSarOMkOtBT"
      }
    },
    {
      "cell_type": "code",
      "source": [
        "qtdtotal = 834.47 / 119.21\n",
        "\n",
        "print (type(qtdtotal))\n",
        "print ('B =',qtdtotal)\n",
        "\n",
        "print (' ')\n",
        "\n",
        "qtdtotal = int(qtdtotal)\n",
        "print (type(qtdtotal))\n",
        "print ('B =',qtdtotal)\n"
      ],
      "metadata": {
        "colab": {
          "base_uri": "https://localhost:8080/"
        },
        "collapsed": true,
        "id": "6pt81J-lu_2j",
        "outputId": "95b7cd60-0f5b-4bdd-f96a-b27051585fcc"
      },
      "execution_count": null,
      "outputs": [
        {
          "output_type": "stream",
          "name": "stdout",
          "text": [
            "<class 'float'>\n",
            "B = 7.000000000000001\n",
            " \n",
            "<class 'int'>\n",
            "B = 7\n"
          ]
        }
      ]
    },
    {
      "cell_type": "markdown",
      "source": [
        "## C) TICKET MEDIO - 23/01"
      ],
      "metadata": {
        "id": "B70pJWkgOo-s"
      }
    },
    {
      "cell_type": "code",
      "source": [
        "ticket_m = 15378.12 / 5\n",
        "\n",
        "print (type(ticket_m))\n",
        "print ('C =',ticket_m)\n",
        "\n",
        "print (' ')\n",
        "\n",
        "ticket_m = int(ticket_m)\n",
        "print (type(ticket_m))\n",
        "print ('C =',ticket_m)"
      ],
      "metadata": {
        "colab": {
          "base_uri": "https://localhost:8080/"
        },
        "collapsed": true,
        "id": "j213pSS9yX36",
        "outputId": "68194496-760d-4dd6-b42f-c82597b29aa0"
      },
      "execution_count": null,
      "outputs": [
        {
          "output_type": "stream",
          "name": "stdout",
          "text": [
            "<class 'float'>\n",
            "C = 3075.6240000000003\n",
            " \n",
            "<class 'int'>\n",
            "C = 3075\n"
          ]
        }
      ]
    },
    {
      "cell_type": "markdown",
      "source": [
        "# 3º Exercício: String"
      ],
      "metadata": {
        "id": "Ga3v7rNqQufy"
      }
    },
    {
      "cell_type": "markdown",
      "source": [
        "##Parte 1"
      ],
      "metadata": {
        "id": "hfjD2bm5YLTl"
      }
    },
    {
      "cell_type": "markdown",
      "source": [
        "Aplique três métodos distintos na string abaixo."
      ],
      "metadata": {
        "id": "1XzAXaKaag_C"
      }
    },
    {
      "cell_type": "markdown",
      "source": [
        "### Replace"
      ],
      "metadata": {
        "id": "i7TTl7QsUvDK"
      }
    },
    {
      "cell_type": "code",
      "source": [
        "cancao = 'roda mundo, roda gigante, roda moinho, roda pião.'\n",
        "print(cancao)\n",
        "print(cancao.replace('roda', 'troca'))"
      ],
      "metadata": {
        "colab": {
          "base_uri": "https://localhost:8080/"
        },
        "id": "h3tM_Ez6Slv-",
        "outputId": "d8b52094-7d69-4a9f-c631-cb3ae98d5fe8"
      },
      "execution_count": null,
      "outputs": [
        {
          "output_type": "stream",
          "name": "stdout",
          "text": [
            "roda mundo, roda gigante, roda moinho, roda pião.\n",
            "troca mundo, troca gigante, troca moinho, troca pião.\n"
          ]
        }
      ]
    },
    {
      "cell_type": "markdown",
      "source": [
        "### Find"
      ],
      "metadata": {
        "id": "OY7Dd-vIWU-L"
      }
    },
    {
      "cell_type": "code",
      "source": [
        "cancao = 'roda mundo, roda gigante, roda moinho, roda pião.'\n",
        "print(cancao)\n",
        "print(cancao.find('pião'))"
      ],
      "metadata": {
        "colab": {
          "base_uri": "https://localhost:8080/"
        },
        "id": "AhcaXYHuS1q_",
        "outputId": "466d9987-3480-4c23-b009-27ec09fd2590"
      },
      "execution_count": null,
      "outputs": [
        {
          "output_type": "stream",
          "name": "stdout",
          "text": [
            "roda mundo, roda gigante, roda moinho, roda pião.\n",
            "44\n"
          ]
        }
      ]
    },
    {
      "cell_type": "markdown",
      "source": [
        "### Upper"
      ],
      "metadata": {
        "id": "9u0iORaFY48A"
      }
    },
    {
      "cell_type": "code",
      "source": [
        "cancao = 'roda mundo, roda gigante, roda moinho, roda pião.'\n",
        "print(cancao)\n",
        "print(str.upper(cancao))\n",
        "print(str.upper('gigante'))"
      ],
      "metadata": {
        "colab": {
          "base_uri": "https://localhost:8080/"
        },
        "id": "esht7bHgVLUk",
        "outputId": "f83d6599-7d58-4f0a-c113-40f418722c8c"
      },
      "execution_count": null,
      "outputs": [
        {
          "output_type": "stream",
          "name": "stdout",
          "text": [
            "roda mundo, roda gigante, roda moinho, roda pião.\n",
            "RODA MUNDO, RODA GIGANTE, RODA MOINHO, RODA PIÃO.\n",
            "GIGANTE\n"
          ]
        }
      ]
    },
    {
      "cell_type": "code",
      "source": [],
      "metadata": {
        "id": "v1SXh8M8aCOm"
      },
      "execution_count": null,
      "outputs": []
    },
    {
      "cell_type": "markdown",
      "source": [
        "##Parte 2"
      ],
      "metadata": {
        "id": "zFzhAd1Hapzo"
      }
    },
    {
      "cell_type": "markdown",
      "source": [
        "Extraia da string abaixo o valor da taxa selic na variável selic e o valor do ano na variável ano . Imprima os valores na tela.\n",
        "   \n",
        "noticia = 'Selic vai a 2,75% e supera expectativas; ' + \\ 'é a primeira alta em 6 anos.'"
      ],
      "metadata": {
        "id": "rjSIpmnSarc2"
      }
    },
    {
      "cell_type": "code",
      "source": [
        "noticia = 'Selic vai a 2,75% e supera expectativas; ' +  'é a primeira alta em 6 anos.'\n",
        "print(noticia)\n",
        "\n",
        "\n",
        "selic1 = '2.75%'\n",
        "selic2 = '2.75'\n",
        "ano = 6\n",
        "\n",
        "print(selic1)\n",
        "print(selic2,'%')\n",
        "\n",
        "print(ano)"
      ],
      "metadata": {
        "colab": {
          "base_uri": "https://localhost:8080/"
        },
        "id": "eFgvl67vay6r",
        "outputId": "130d0e4e-356f-4638-d4a0-760f99016582"
      },
      "execution_count": null,
      "outputs": [
        {
          "output_type": "stream",
          "name": "stdout",
          "text": [
            "Selic vai a 2,75% e supera expectativas; é a primeira alta em 6 anos.\n",
            "2.75%\n",
            "2.75 %\n",
            "6\n"
          ]
        }
      ]
    },
    {
      "cell_type": "code",
      "source": [],
      "metadata": {
        "id": "tDYY6K3-dGvV"
      },
      "execution_count": null,
      "outputs": []
    },
    {
      "cell_type": "markdown",
      "source": [
        "# 4º Exercício: Booleanos"
      ],
      "metadata": {
        "id": "LqPokBe-ehVY"
      }
    },
    {
      "cell_type": "markdown",
      "source": [
        "## Utilize a tabela da verdade para responder: qual o valor da variável x?\n",
        "\n",
        "a = False\n",
        "\n",
        "b = True\n",
        "\n",
        "x = not a & b"
      ],
      "metadata": {
        "id": "ikFonpEKej6Q"
      }
    },
    {
      "cell_type": "code",
      "source": [
        "a = False\n",
        "\n",
        "b = True\n",
        "\n",
        "x = not a & b\n",
        "print(x)"
      ],
      "metadata": {
        "colab": {
          "base_uri": "https://localhost:8080/"
        },
        "id": "ETsofjxTeqpE",
        "outputId": "ab4034c0-b140-46ed-d61b-fbde397cee8c"
      },
      "execution_count": 2,
      "outputs": [
        {
          "output_type": "stream",
          "name": "stdout",
          "text": [
            "True\n"
          ]
        }
      ]
    }
  ]
}